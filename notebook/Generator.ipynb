{
 "cells": [
  {
   "cell_type": "code",
   "execution_count": 38,
   "metadata": {
    "collapsed": false
   },
   "outputs": [
    {
     "name": "stdout",
     "output_type": "stream",
     "text": [
      "Populating the interactive namespace from numpy and matplotlib\n",
      "The autoreload extension is already loaded. To reload it, use:\n",
      "  %reload_ext autoreload\n"
     ]
    }
   ],
   "source": [
    "import sys\n",
    "%pylab inline\n",
    "%load_ext autoreload\n",
    "%autoreload 2\n",
    "sys.path.insert(0,'../streampredictor/')\n",
    "sys.path.insert(0,'../')"
   ]
  },
  {
   "cell_type": "code",
   "execution_count": 39,
   "metadata": {
    "collapsed": false
   },
   "outputs": [
    {
     "name": "stdout",
     "output_type": "stream",
     "text": [
      "\n",
      "============= Stream Predictor Hyper parameters ===================\n",
      "The perplexity count constant is 6000\n",
      "The occasional step periods is 2000\n",
      "Feed strength gain is 1000000\n",
      "============= End Stream Predictor Hyper parameters ===================\n"
     ]
    }
   ],
   "source": [
    "from stream_predictor import StreamPredictor\n",
    "sp = StreamPredictor()"
   ]
  },
  {
   "cell_type": "code",
   "execution_count": 40,
   "metadata": {
    "collapsed": false
   },
   "outputs": [
    {
     "name": "stdout",
     "output_type": "stream",
     "text": [
      "['hello', 'how', 'are', 'you', 'hello', 'who', 'are', 'you', 'hello', 'how', 'are', 'you', 'hello', 'who', 'are', 'you', 'hello', 'how', 'are', 'you']\n"
     ]
    }
   ],
   "source": [
    "input_text = 'hello how are you hello who are you'\n",
    "input_words = input_text.split(' ')*1000\n",
    "print(input_words[:20])"
   ]
  },
  {
   "cell_type": "code",
   "execution_count": 41,
   "metadata": {
    "collapsed": false
   },
   "outputs": [
    {
     "name": "stdout",
     "output_type": "stream",
     "text": [
      "There are  5  words in vocabulary.\n",
      "The first few words are  you,hello,who,how,are\n",
      "Finished training in 215 steps\n"
     ]
    }
   ],
   "source": [
    "sp.train(input_words, True)"
   ]
  },
  {
   "cell_type": "code",
   "execution_count": 42,
   "metadata": {
    "collapsed": false
   },
   "outputs": [
    {
     "name": "stdout",
     "output_type": "stream",
     "text": [
      "Generating words with word count =  20\n",
      "['you', 'you', 'hello', 'are', 'you', 'hello', 'how', 'are', 'you', 'hello', 'how', 'are', 'you', 'hello', 'who', 'are', 'you', 'hello', 'who', 'are']\n"
     ]
    }
   ],
   "source": [
    "print(sp.generate(20))"
   ]
  },
  {
   "cell_type": "code",
   "execution_count": 44,
   "metadata": {
    "collapsed": false
   },
   "outputs": [
    {
     "data": {
      "text/plain": [
       "{'are': 0.92,\n",
       " 'hello': 0.020000000000000004,\n",
       " 'how': 0.020000000000000004,\n",
       " 'who': 0.020000000000000004,\n",
       " 'you': 0.020000000000000004}"
      ]
     },
     "execution_count": 44,
     "metadata": {},
     "output_type": "execute_result"
    }
   ],
   "source": [
    "sp.generator.next_word_distribution(previous_list_of_words=['how'])"
   ]
  },
  {
   "cell_type": "code",
   "execution_count": 45,
   "metadata": {
    "collapsed": false
   },
   "outputs": [
    {
     "data": {
      "text/plain": [
       "{'are': 0.020000000000000004,\n",
       " 'hello': 0.020000000000000004,\n",
       " 'how': 0.020000000000000004,\n",
       " 'who': 0.020000000000000004,\n",
       " 'you': 0.92}"
      ]
     },
     "execution_count": 45,
     "metadata": {},
     "output_type": "execute_result"
    }
   ],
   "source": [
    "sp.generator.next_word_distribution(previous_list_of_words=['are'])"
   ]
  },
  {
   "cell_type": "code",
   "execution_count": 46,
   "metadata": {
    "collapsed": false
   },
   "outputs": [
    {
     "data": {
      "text/plain": [
       "{'are': 0.020000000000000004,\n",
       " 'hello': 0.020000000000000004,\n",
       " 'how': 0.47000000000000003,\n",
       " 'who': 0.47000000000000003,\n",
       " 'you': 0.020000000000000004}"
      ]
     },
     "execution_count": 46,
     "metadata": {},
     "output_type": "execute_result"
    }
   ],
   "source": [
    "sp.generator.next_word_distribution(previous_list_of_words=['hello'])"
   ]
  },
  {
   "cell_type": "code",
   "execution_count": null,
   "metadata": {
    "collapsed": true
   },
   "outputs": [],
   "source": []
  }
 ],
 "metadata": {
  "kernelspec": {
   "display_name": "Python [default]",
   "language": "python",
   "name": "python3"
  },
  "language_info": {
   "codemirror_mode": {
    "name": "ipython",
    "version": 3
   },
   "file_extension": ".py",
   "mimetype": "text/x-python",
   "name": "python",
   "nbconvert_exporter": "python",
   "pygments_lexer": "ipython3",
   "version": "3.5.2"
  }
 },
 "nbformat": 4,
 "nbformat_minor": 1
}
