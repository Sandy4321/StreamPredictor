{
 "cells": [
  {
   "cell_type": "markdown",
   "metadata": {},
   "source": [
    "#Word Predictor Demo\n",
    "This is a simple demo of how to use the WordPredictor"
   ]
  },
  {
   "cell_type": "code",
   "execution_count": 1,
   "metadata": {
    "collapsed": false
   },
   "outputs": [
    {
     "name": "stdout",
     "output_type": "stream",
     "text": [
      "Populating the interactive namespace from numpy and matplotlib\n"
     ]
    }
   ],
   "source": [
    "import sys\n",
    "%pylab inline\n",
    "%load_ext autoreload\n",
    "%autoreload 2\n",
    "sys.path.insert(0,'../source/')"
   ]
  },
  {
   "cell_type": "code",
   "execution_count": 2,
   "metadata": {
    "collapsed": false
   },
   "outputs": [
    {
     "name": "stdout",
     "output_type": "stream",
     "text": [
      "would be disappointed but he soon found out that he had a different story to hear . `` Oh my\n"
     ]
    }
   ],
   "source": [
    "import DataObtainer\n",
    "words = DataObtainer.get_clean_words_from_file('../Data/pride.txt', 10 ** 9)\n",
    "print ' '.join(words[:20])"
   ]
  },
  {
   "cell_type": "code",
   "execution_count": 3,
   "metadata": {
    "collapsed": false
   },
   "outputs": [
    {
     "name": "stdout",
     "output_type": "stream",
     "text": [
      "The perplexity count constant is 6000\n",
      "The occasional step periods is 2000\n",
      "The not found raitio is0.9\n",
      "Feed strength gain is 1000000\n"
     ]
    }
   ],
   "source": [
    "import WordPredictor\n",
    "wp = WordPredictor.WordPredictor()"
   ]
  },
  {
   "cell_type": "code",
   "execution_count": 4,
   "metadata": {
    "collapsed": false
   },
   "outputs": [
    {
     "name": "stdout",
     "output_type": "stream",
     "text": [
      "There are  7602  words in vocabulary.\n",
      "The first few words are  would,be,disappointed,but,he,soon,found,out,that,he\n",
      "Started training with word count = 143119\n"
     ]
    }
   ],
   "source": [
    "wp.train(words)"
   ]
  },
  {
   "cell_type": "code",
   "execution_count": 5,
   "metadata": {
    "collapsed": false
   },
   "outputs": [
    {
     "name": "stdout",
     "output_type": "stream",
     "text": [
      "Generating words with word count =  200\n",
      "  of  his  own acting  wrong I  know  none judgement  , at them  in the in  formation her  self  ,  and how  far  it would  be for  the young  man that  ever  was seen ,  and Mr.  Darcy was attending  them  to their expression ,  as Jane  and  Elizabeth ,  who considered  it  as the  only sacrifice on  my discernment I consider  my  self as the rattle of  the pictures ,  the colour now .  ''  ``  I  beg  your pardon  , I  will try you  .  I could  not  have been more wretchedly blind partiality for  their sudden attack as  this .  I am very  glad to  hear such  a brother  ? seen  them  to  get  her relating  her seeing  them modest hopes or connections are  so abiding  in  it so  on  turned account  ,  by home  and the most worth  less young  men to choose to give  you reasons  for this wind .  Why was  he to  be  the business  of her life , one could  not be fault  less ,  a  little change which  her observations gave them to  under  stand that  they  were under any real , the man  whom  he always disliked Mr.  Darcy so  on  drew the  attention of  the  room but on  the  third Saturday  night  about La my  dear  ,  ''  s  aid he  ,  when  s  he ceased  speaking  , ``  I  have seen  them  both .  They  are all the way  home next  to your respected ,  s  he sallied forth in to  the garden sloping to  the hall .  `` Yours since  rely ,  `` and  it  is the  first opportunity  of saying  , he paid  her not  the  smallest attention as  this ? ''  ``  Yes .  It had  better go in  to  the regulars .  Thank  Heaven he  has other  feelings ,  which he  could  not  help satisfaction  as her opinion of  all  that was  done ,  and  his eyes  were instantly on  that  head ,  he took  his leave her .  Bingley of  course a  daily visit  or left  them so  on  after  break  fast ,  and  in  a private conference with her  fat  her had  been exactly the  case ,  and  with consider  able amount of\n"
     ]
    }
   ],
   "source": [
    "print wp.generate(200)[100:]"
   ]
  },
  {
   "cell_type": "code",
   "execution_count": 11,
   "metadata": {
    "collapsed": false
   },
   "outputs": [
    {
     "name": "stdout",
     "output_type": "stream",
     "text": [
      "Current Perplexity = 4107.03096\r",
      "Current Perplexity = 624.634245939\r",
      "Current Perplexity = 641.517914154\r"
     ]
    },
    {
     "data": {
      "text/plain": [
       "[4107.0309600000019, 624.63424593917398, 641.51791415441051]"
      ]
     },
     "execution_count": 11,
     "metadata": {},
     "output_type": "execute_result"
    }
   ],
   "source": [
    "wp.calculate_perplexity(['he', 'has', 'other','feelings'])"
   ]
  },
  {
   "cell_type": "code",
   "execution_count": 12,
   "metadata": {
    "collapsed": false
   },
   "outputs": [
    {
     "name": "stdout",
     "output_type": "stream",
     "text": [
      "Current Perplexity = 8172.22222222\r",
      "Current Perplexity = 2351.56764104\r",
      "Current Perplexity = 3601.36192627\r"
     ]
    },
    {
     "data": {
      "text/plain": [
       "[8172.2222222222217, 2351.5676410365863, 3601.3619262747584]"
      ]
     },
     "execution_count": 12,
     "metadata": {},
     "output_type": "execute_result"
    }
   ],
   "source": [
    "wp.calculate_perplexity(['he', 'other', 'feelings','has'])"
   ]
  },
  {
   "cell_type": "markdown",
   "metadata": {
    "collapsed": true
   },
   "source": [
    "We see that the first one has lower perplexity as expected."
   ]
  },
  {
   "cell_type": "code",
   "execution_count": null,
   "metadata": {
    "collapsed": true
   },
   "outputs": [],
   "source": []
  }
 ],
 "metadata": {
  "kernelspec": {
   "display_name": "Python 2",
   "language": "python",
   "name": "python2"
  },
  "language_info": {
   "codemirror_mode": {
    "name": "ipython",
    "version": 2
   },
   "file_extension": ".py",
   "mimetype": "text/x-python",
   "name": "python",
   "nbconvert_exporter": "python",
   "pygments_lexer": "ipython2",
   "version": "2.7.10"
  }
 },
 "nbformat": 4,
 "nbformat_minor": 0
}
