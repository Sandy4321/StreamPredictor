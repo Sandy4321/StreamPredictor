{
 "cells": [
  {
   "cell_type": "markdown",
   "metadata": {
    "deletable": true,
    "editable": true
   },
   "source": [
    "# Language model PTB benchmark\n",
    "\n",
    "Here we will train the stream predictor on PTB train set and test it on the PTB test set.\n",
    "In test phase we will measure the perplexity on the test data."
   ]
  },
  {
   "cell_type": "code",
   "execution_count": null,
   "metadata": {
    "collapsed": true
   },
   "outputs": [],
   "source": [
    "%pylab inline\n",
    "%load_ext autoreload\n",
    "%autoreload 2"
   ]
  },
  {
   "cell_type": "code",
   "execution_count": 16,
   "metadata": {
    "collapsed": false,
    "deletable": true,
    "editable": true
   },
   "outputs": [],
   "source": [
    "import sys\n",
    "import logging\n",
    "import random\n",
    "from streampredictor.stream_predictor import StreamPredictor\n",
    "sys.path.insert(0,'../')\n",
    "sys.path.insert(0,'../streampredictor/')"
   ]
  },
  {
   "cell_type": "markdown",
   "metadata": {},
   "source": [
    "## Setting the parameters\n",
    "Setting the training/test file to the standard PTB dataaset. "
   ]
  },
  {
   "cell_type": "code",
   "execution_count": 5,
   "metadata": {
    "collapsed": false,
    "deletable": true,
    "editable": true
   },
   "outputs": [],
   "source": [
    "train_file = '../Data/ptb.train.txt'\n",
    "test_file = '../Data/ptb.test.txt'\n",
    "output_filename = '../PatternStore/ptb_benchmark.tsv'\n",
    "logging.basicConfig(filename='../PatternStore/perplexity.log', level=logging.INFO)"
   ]
  },
  {
   "cell_type": "markdown",
   "metadata": {},
   "source": [
    "Load all the words from the train/test files"
   ]
  },
  {
   "cell_type": "code",
   "execution_count": 21,
   "metadata": {
    "collapsed": false
   },
   "outputs": [
    {
     "name": "stdout",
     "output_type": "stream",
     "text": [
      "There are  887523  words in the file  ../Data/ptb.train.txt\n",
      "There are  78671  words in the file  ../Data/ptb.test.txt\n",
      "Few train words are : it more than N years ago researchers reported the asbestos fiber <unk> is unusually <unk> once it enters the <unk>\n",
      " \n",
      "Few test words are : selling pressure big investment banks refused to step up to the plate to support the beleaguered floor traders by buying\n"
     ]
    }
   ],
   "source": [
    "def get_words_from_file(filename):\n",
    "    with open(filename, 'r') as f:\n",
    "        words = f.read().replace('\\n', '').replace('  ', ' ').split(' ')\n",
    "        print('There are ', len(words), ' words in the file ', filename)\n",
    "        return words\n",
    "\n",
    "train_words = get_words_from_file(train_file)\n",
    "test_words = get_words_from_file(test_file)\n",
    "print('Few train words are :', ' '.join(train_words[100:120]))\n",
    "print(' ')\n",
    "print('Few test words are :', ' '.join(test_words[100:120]))"
   ]
  },
  {
   "cell_type": "markdown",
   "metadata": {},
   "source": [
    "## Training\n",
    "Initialize a stream predictor object call sp.\n",
    "Train it on the training words. \n",
    "Once training is done, save the patterns to a file."
   ]
  },
  {
   "cell_type": "code",
   "execution_count": 17,
   "metadata": {
    "collapsed": false
   },
   "outputs": [
    {
     "name": "stdout",
     "output_type": "stream",
     "text": [
      "\n",
      "============= Stream Predictor Hyper parameters ===================\n",
      "The perplexity count constant is 6000\n",
      "The occasional step periods is 2000\n",
      "Feed strength gain is 1000000\n",
      "============= End Stream Predictor Hyper parameters ===================\n",
      "Started training with 887523 words\n",
      "Adding 887523 words to vocabulary\n",
      "now there are  10000  words in vocabulary.\n",
      "Occasional step at  10000\n",
      "Fixing incorrect first_child_parents\n",
      "Occasional step at  20000\n",
      "Fixing incorrect first_child_parents\n",
      "Occasional step at  30000\n",
      "Fixing incorrect first_child_parents\n",
      "Occasional step at  40000\n",
      "Fixing incorrect first_child_parents\n",
      "Occasional step at  50000\n",
      "Fixing incorrect first_child_parents\n",
      "Occasional step at  60000\n",
      "Fixing incorrect first_child_parents\n",
      "Finished training in 60003 steps\n",
      "The rate of learning is 0.062 K words/s\n",
      "Saved file ../PatternStore/ptb_benchmark.tsv with pattern count 51159\n"
     ]
    }
   ],
   "source": [
    "sp = StreamPredictor()\n",
    "sp.train(train_words)\n",
    "sp.file_manager.save_tsv('%s' % output_filename)"
   ]
  },
  {
   "cell_type": "markdown",
   "metadata": {},
   "source": [
    "## Testing\n",
    "Now let us calculate the perplexity on the test set."
   ]
  },
  {
   "cell_type": "code",
   "execution_count": 22,
   "metadata": {
    "collapsed": false
   },
   "outputs": [
    {
     "name": "stdout",
     "output_type": "stream",
     "text": [
      "Adding 2000 words to vocabulary\n",
      "now there are  11159  words in vocabulary.\n",
      "Started calculating perplexity with word count = 2000\n",
      " Final perplexity is  6370.92892443  final vocab count is  11159\n"
     ]
    },
    {
     "data": {
      "image/png": "[encoded data removed]",
      "text/plain": [
       "<matplotlib.figure.Figure at 0x23093659198>"
      ]
     },
     "metadata": {},
     "output_type": "display_data"
    }
   ],
   "source": [
    "perplexity_list = sp.calculate_perplexity(words=test_words)\n",
    "plt.plot(perplexity_list)\n",
    "plt.xlabel('Time')\n",
    "plt.ylabel('Perplexity')\n",
    "plt.title('Perplexity over test words')\n",
    "plt.show()"
   ]
  },
  {
   "cell_type": "markdown",
   "metadata": {},
   "source": [
    "## Checking out the generator\n",
    "Now that the word predictor is trained, \n",
    "Let us compare perplexity of a valid sentence with a jumpled one.\n",
    "We will see that the first one (valid) has lower perplexity as expected."
   ]
  },
  {
   "cell_type": "code",
   "execution_count": 27,
   "metadata": {
    "collapsed": false,
    "deletable": true,
    "editable": true
   },
   "outputs": [
    {
     "name": "stdout",
     "output_type": "stream",
     "text": [
      "Adding 4 words to vocabulary\n",
      "now there are  11159  words in vocabulary.\n",
      "Started calculating perplexity with word count = 4\n",
      "Current Perplexity = 277.2216005695115\r",
      " Current Perplexity = 5265.1837628853045\r",
      " Current Perplexity = 13385.800688020156\r",
      " Final perplexity is  1244.46665863  final vocab count is  11159\n"
     ]
    },
    {
     "data": {
      "text/plain": [
       "[277.22160056951151, 5265.1837628853045, 13385.800688020156]"
      ]
     },
     "execution_count": 27,
     "metadata": {},
     "output_type": "execute_result"
    }
   ],
   "source": [
    "sp.calculate_perplexity(['he', 'has', 'other','feelings'])"
   ]
  },
  {
   "cell_type": "code",
   "execution_count": 28,
   "metadata": {
    "collapsed": false,
    "deletable": true,
    "editable": true
   },
   "outputs": [
    {
     "name": "stdout",
     "output_type": "stream",
     "text": [
      "Adding 4 words to vocabulary\n",
      "now there are  11159  words in vocabulary.\n",
      "Started calculating perplexity with word count = 4\n",
      "Current Perplexity = 57861.93608221577\r",
      " Current Perplexity = 70753.75257229865\r",
      " Current Perplexity = 79402.28228640153\r",
      " Final perplexity is  4730.1481069  final vocab count is  11159\n"
     ]
    },
    {
     "data": {
      "text/plain": [
       "[57861.936082215769, 70753.752572298647, 79402.282286401532]"
      ]
     },
     "execution_count": 28,
     "metadata": {},
     "output_type": "execute_result"
    }
   ],
   "source": [
    "sp.calculate_perplexity(['he', 'other', 'feelings','has'])"
   ]
  },
  {
   "cell_type": "code",
   "execution_count": null,
   "metadata": {
    "collapsed": true
   },
   "outputs": [],
   "source": []
  }
 ],
 "metadata": {
  "anaconda-cloud": {},
  "kernelspec": {
   "display_name": "Python [default]",
   "language": "python",
   "name": "python3"
  },
  "language_info": {
   "codemirror_mode": {
    "name": "ipython",
    "version": 3
   },
   "file_extension": ".py",
   "mimetype": "text/x-python",
   "name": "python",
   "nbconvert_exporter": "python",
   "pygments_lexer": "ipython3",
   "version": "3.5.2"
  }
 },
 "nbformat": 4,
 "nbformat_minor": 0
}
