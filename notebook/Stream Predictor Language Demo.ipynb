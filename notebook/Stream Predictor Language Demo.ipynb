{
 "cells": [
  {
   "cell_type": "markdown",
   "metadata": {
    "deletable": true,
    "editable": true
   },
   "source": [
    "# Language model demo\n",
    "\n",
    "This is a simple demo of how to use the WordPredictor.\n",
    "\n",
    "In this demo we will create a word predictor, train it on sample text.\n",
    "Then use this trained model to generate words."
   ]
  },
  {
   "cell_type": "code",
   "execution_count": 1,
   "metadata": {
    "collapsed": false,
    "deletable": true,
    "editable": true
   },
   "outputs": [
    {
     "name": "stdout",
     "output_type": "stream",
     "text": [
      "Populating the interactive namespace from numpy and matplotlib\n"
     ]
    }
   ],
   "source": [
    "import sys\n",
    "%pylab inline\n",
    "%load_ext autoreload\n",
    "%autoreload 2\n",
    "sys.path.insert(0,'../')\n",
    "sys.path.insert(0,'../streampredictor/')"
   ]
  },
  {
   "cell_type": "code",
   "execution_count": 2,
   "metadata": {
    "collapsed": false,
    "deletable": true,
    "editable": true
   },
   "outputs": [
    {
     "name": "stdout",
     "output_type": "stream",
     "text": [
      "Cleaned words, some of the first few are  [',', 'my', 'dear', ',', 'nobody']\n",
      "Sample words from the input data\n",
      ", my dear , nobody said there were but as to not meeting with many people in this neighbourhood ,\n"
     ]
    }
   ],
   "source": [
    "import data_fetcher\n",
    "words = data_fetcher.get_clean_words_from_file('../Data/pride.txt', 10 ** 9)\n",
    "print('Sample words from the input data')\n",
    "print(' '.join(words[:20]))"
   ]
  },
  {
   "cell_type": "markdown",
   "metadata": {},
   "source": [
    "Let us create the WordPredictor Object."
   ]
  },
  {
   "cell_type": "code",
   "execution_count": 5,
   "metadata": {
    "collapsed": false,
    "deletable": true,
    "editable": true
   },
   "outputs": [
    {
     "name": "stdout",
     "output_type": "stream",
     "text": [
      "\n",
      "============= Stream Predictor Hyper parameters ===================\n",
      "The perplexity count constant is 6000\n",
      "The occasional step periods is 2000\n",
      "The not found raitio is0.9\n",
      "Feed strength gain is 1000000\n",
      "============= End Stream Predictor Hyper parameters ===================\n"
     ]
    }
   ],
   "source": [
    "import stream_predictor\n",
    "sp = stream_predictor.StreamPredictor()"
   ]
  },
  {
   "cell_type": "markdown",
   "metadata": {},
   "source": [
    "Let us train the word predictor on the input data"
   ]
  },
  {
   "cell_type": "code",
   "execution_count": 7,
   "metadata": {
    "collapsed": false,
    "deletable": true,
    "editable": true
   },
   "outputs": [
    {
     "name": "stdout",
     "output_type": "stream",
     "text": [
      "There are  7603  words in vocabulary.\n",
      "The first few words are  ,,my,dear,,,nobody,said,there,were,but,as\n"
     ]
    }
   ],
   "source": [
    "sp.train(words)"
   ]
  },
  {
   "cell_type": "markdown",
   "metadata": {},
   "source": [
    "Now that the word predictor is trained, \n",
    "let us generate some samples out of the word predictor."
   ]
  },
  {
   "cell_type": "code",
   "execution_count": 9,
   "metadata": {
    "collapsed": false,
    "deletable": true,
    "editable": true
   },
   "outputs": [
    {
     "name": "stdout",
     "output_type": "stream",
     "text": [
      "Generating words with word count =  50\n",
      " envied , , , , , , , , , , , , , , , , , , , , , , , , , , , , , , , , , , , , , , , , , , , , , , , , ,\n"
     ]
    }
   ],
   "source": [
    "print(sp.generate(50))"
   ]
  },
  {
   "cell_type": "markdown",
   "metadata": {
    "collapsed": true,
    "deletable": true,
    "editable": true
   },
   "source": [
    "Let us compare perplexity of a valid sentence with a jumpled one.\n",
    "We will see that the first one (valid) has lower perplexity as expected."
   ]
  },
  {
   "cell_type": "code",
   "execution_count": 10,
   "metadata": {
    "collapsed": false,
    "deletable": true,
    "editable": true
   },
   "outputs": [
    {
     "name": "stdout",
     "output_type": "stream",
     "text": [
      "Current Perplexity = 8444.444444444443\r",
      " Current Perplexity = 8445.555482465756\r",
      " Current Perplexity = 8447.036728503062\r",
      " "
     ]
    },
    {
     "data": {
      "text/plain": [
       "[8444.4444444444434, 8445.5554824657556, 8447.0367285030625]"
      ]
     },
     "execution_count": 10,
     "metadata": {},
     "output_type": "execute_result"
    }
   ],
   "source": [
    "sp.calculate_perplexity(['he', 'has', 'other','feelings'])"
   ]
  },
  {
   "cell_type": "code",
   "execution_count": 11,
   "metadata": {
    "collapsed": false,
    "deletable": true,
    "editable": true
   },
   "outputs": [
    {
     "name": "stdout",
     "output_type": "stream",
     "text": [
      "Current Perplexity = 8444.444444444443\r",
      " Current Perplexity = 8447.221765501095\r",
      " Current Perplexity = 8448.14774215898\r",
      " "
     ]
    },
    {
     "data": {
      "text/plain": [
       "[8444.4444444444434, 8447.2217655010954, 8448.1477421589807]"
      ]
     },
     "execution_count": 11,
     "metadata": {},
     "output_type": "execute_result"
    }
   ],
   "source": [
    "sp.calculate_perplexity(['he', 'other', 'feelings','has'])"
   ]
  },
  {
   "cell_type": "code",
   "execution_count": null,
   "metadata": {
    "collapsed": true
   },
   "outputs": [],
   "source": []
  }
 ],
 "metadata": {
  "kernelspec": {
   "display_name": "Python [default]",
   "language": "python",
   "name": "python3"
  },
  "language_info": {
   "codemirror_mode": {
    "name": "ipython",
    "version": 3
   },
   "file_extension": ".py",
   "mimetype": "text/x-python",
   "name": "python",
   "nbconvert_exporter": "python",
   "pygments_lexer": "ipython3",
   "version": "3.5.2"
  }
 },
 "nbformat": 4,
 "nbformat_minor": 0
}
