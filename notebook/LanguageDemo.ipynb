{
 "cells": [
  {
   "cell_type": "markdown",
   "metadata": {},
   "source": [
    "#Word Predictor Demo\n",
    "This is a simple demo of how to use the WordPredictor"
   ]
  },
  {
   "cell_type": "code",
   "execution_count": 7,
   "metadata": {
    "collapsed": false
   },
   "outputs": [
    {
     "name": "stdout",
     "output_type": "stream",
     "text": [
      "Populating the interactive namespace from numpy and matplotlib\n",
      "The autoreload extension is already loaded. To reload it, use:\n",
      "  %reload_ext autoreload\n"
     ]
    }
   ],
   "source": [
    "import sys\n",
    "%pylab inline\n",
    "%load_ext autoreload\n",
    "%autoreload 2\n",
    "sys.path.insert(0,'../source/')"
   ]
  },
  {
   "cell_type": "code",
   "execution_count": 8,
   "metadata": {
    "collapsed": false
   },
   "outputs": [
    {
     "name": "stdout",
     "output_type": "stream",
     "text": [
      "k , and Elizabeth saw that he was anxious for his sister and herself to get acquainted , and forwarded\n"
     ]
    }
   ],
   "source": [
    "import DataObtainer\n",
    "words = DataObtainer.get_clean_words_from_file('../Data/pride.txt', 10 ** 9)\n",
    "print ' '.join(words[:20])"
   ]
  },
  {
   "cell_type": "code",
   "execution_count": 9,
   "metadata": {
    "collapsed": false
   },
   "outputs": [
    {
     "name": "stdout",
     "output_type": "stream",
     "text": [
      "The perplexity count constant is 6000\n",
      "The occasional step periods is 2000\n",
      "The not found raitio is0.9\n",
      "Feed strength gain is 1000000\n"
     ]
    }
   ],
   "source": [
    "import WordPredictor\n",
    "wp = WordPredictor.WordPredictor()"
   ]
  },
  {
   "cell_type": "code",
   "execution_count": 10,
   "metadata": {
    "collapsed": false
   },
   "outputs": [
    {
     "name": "stdout",
     "output_type": "stream",
     "text": [
      "There are  7604  words in vocabulary.\n",
      "The first few words are  k,,,and,Elizabeth,saw,that,he,was,anxious,for\n",
      "Started training with word count = 143120\n"
     ]
    }
   ],
   "source": [
    "wp.train(words)"
   ]
  },
  {
   "cell_type": "code",
   "execution_count": 13,
   "metadata": {
    "collapsed": false
   },
   "outputs": [
    {
     "name": "stdout",
     "output_type": "stream",
     "text": [
      "Generating words with word count =  200\n",
      "omprehend  a  great  deal in  it ''  ``  My  dear ,  do  not give  way to  such feelings which would  have spared her  from Derbyshire ,  nor humbled but  s  he  was proud but  the things occur red to  the instrument  . his  dependence ,  in  whose countenance expressed him  self on  seeing it  was melancholy conviction that it  was  impossible to  think  of it , you  would drink  a great  deal  more  than you thought of my going over came the pity ,  the  first  to be done .  ''  ``  But consider able time  , my collection will  remain freely , to express  her admiration .  The officers will easily perceive that  his eyes  were so altered ? Oh Bromley ,  of  course .  If  you are redistributing or creating derivative  works  based on  this intimation of  her promise of the impertinent .  His consenting to  marry her in  spite  of  all the good  opinion  of her  friends ,  were many attractions of  Miss  Darcy and  the finished ,  s  he  saw her  self the neglect such  an in  come .  Five thousand  pounds .  His former were many  good paintings but  Elizabeth ,  to de  serve it  . ''  ``  Your wit  flowed houses  ,  he as  now  the sell  it  .  ''  `` time  since  he  had you  are  the am  use  her  in .  My  visit  was others  equally  mortifying marrying  ,  and .  From  these of  mind must  be unwelcome .  ''  ``  I say  no  more than  the apartments to  make the expenses of  travelling unimportant , vexed to  see Darcy in  town ,  before they  left the  country  . Miss  Darcy ?  '' `` Not  a  tall ,  ''  was  her answer .  Jane  was anxious to  please in  general ,  since I  am most idle ,  and absolutely uncontrolled Oh  my  dear fat  her  , who would be going  there for  ever ,  the visit  or .  Mr.  Darcy s  aid  very little  ,  and Mr.  Hurst called resentful silence  . little  else c  all  her amiable  . ,  the  wish her  features  ,  though  not WORK  To .  The  younger  girls November  for did  ,  s  he  accepted wish  to  for  get\n"
     ]
    }
   ],
   "source": [
    "print wp.generate(200)[100:]"
   ]
  },
  {
   "cell_type": "code",
   "execution_count": null,
   "metadata": {
    "collapsed": true
   },
   "outputs": [],
   "source": []
  }
 ],
 "metadata": {
  "kernelspec": {
   "display_name": "Python 2",
   "language": "python",
   "name": "python2"
  },
  "language_info": {
   "codemirror_mode": {
    "name": "ipython",
    "version": 2
   },
   "file_extension": ".py",
   "mimetype": "text/x-python",
   "name": "python",
   "nbconvert_exporter": "python",
   "pygments_lexer": "ipython2",
   "version": "2.7.10"
  }
 },
 "nbformat": 4,
 "nbformat_minor": 0
}
