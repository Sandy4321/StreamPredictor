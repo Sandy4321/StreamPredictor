{
 "cells": [
  {
   "cell_type": "markdown",
   "metadata": {
    "deletable": true,
    "editable": true
   },
   "source": [
    "# Language model demo\n",
    "\n",
    "This is a simple demo of how to use the WordPredictor.\n",
    "\n",
    "In this demo we will create a word predictor, train it on sample text.\n",
    "Then use this trained model to generate words."
   ]
  },
  {
   "cell_type": "code",
   "execution_count": 4,
   "metadata": {
    "collapsed": false,
    "deletable": true,
    "editable": true
   },
   "outputs": [
    {
     "name": "stdout",
     "output_type": "stream",
     "text": [
      "Populating the interactive namespace from numpy and matplotlib\n",
      "The autoreload extension is already loaded. To reload it, use:\n",
      "  %reload_ext autoreload\n"
     ]
    }
   ],
   "source": [
    "import sys\n",
    "%pylab inline\n",
    "%load_ext autoreload\n",
    "%autoreload 2\n",
    "sys.path.insert(0,'../streampredictor/')"
   ]
  },
  {
   "cell_type": "code",
   "execution_count": 7,
   "metadata": {
    "collapsed": false,
    "deletable": true,
    "editable": true
   },
   "outputs": [
    {
     "name": "stdout",
     "output_type": "stream",
     "text": [
      "Sample words from the input data\n",
      "e poor . Family pride , and filial pridefor he is very proud of what his father washave done this\n"
     ]
    }
   ],
   "source": [
    "import DataObtainer\n",
    "words = DataObtainer.get_clean_words_from_file('../Data/pride.txt', 10 ** 9)\n",
    "print('Sample words from the input data')\n",
    "print(' '.join(words[:20]))"
   ]
  },
  {
   "cell_type": "markdown",
   "metadata": {},
   "source": [
    "Let us create the WordPredictor Object."
   ]
  },
  {
   "cell_type": "code",
   "execution_count": 8,
   "metadata": {
    "collapsed": false,
    "deletable": true,
    "editable": true
   },
   "outputs": [
    {
     "name": "stdout",
     "output_type": "stream",
     "text": [
      "The perplexity count constant is 6000\n",
      "The occasional step periods is 2000\n",
      "The not found raitio is0.9\n",
      "Feed strength gain is 1000000\n"
     ]
    }
   ],
   "source": [
    "import WordPredictor\n",
    "wp = WordPredictor.WordPredictor()"
   ]
  },
  {
   "cell_type": "markdown",
   "metadata": {},
   "source": [
    "Let us train the word predictor on the input data"
   ]
  },
  {
   "cell_type": "code",
   "execution_count": 9,
   "metadata": {
    "collapsed": false,
    "deletable": true,
    "editable": true
   },
   "outputs": [
    {
     "name": "stdout",
     "output_type": "stream",
     "text": [
      "There are  7604  words in vocabulary.\n",
      "The first few words are  e,poor,.,Family,pride,,,and,filial,pridefor,he\n",
      "Started training with word count = 143120\n"
     ]
    }
   ],
   "source": [
    "wp.train(words)"
   ]
  },
  {
   "cell_type": "markdown",
   "metadata": {},
   "source": [
    "Now that the word predictor is trained, \n",
    "let us generate some samples out of the word predictor."
   ]
  },
  {
   "cell_type": "code",
   "execution_count": 11,
   "metadata": {
    "collapsed": false,
    "deletable": true,
    "editable": true
   },
   "outputs": [
    {
     "name": "stdout",
     "output_type": "stream",
     "text": [
      "Generating words with word count =  200\n",
      "sement have  s  aid  a  word liked me less trouble of  finding him ,  and  if  you are  not so many previous study .  ''  ``  Yes  , madam  ,  '' s  aid th  at  s  he  had neither such an openness and all for  the time  of my fat  her , from  a circulating library ,  therefore  , to  her  daughters proposal to  the  same vexatious interruptions of  Mr.  Collins  ,  and  the gaieties of  their condition .  ''  `` I  never saw  you look  in greater .  He made  her sister rekindled the sisters and  Elizabeth admired ,  no  thing th  at  could never  be over throw e  very year .  His accompanying them was  a constant company was  by delicate sense  of her situation must have  been a  most determined he  should know its  contents as quickly perceived a little further consideration with  regard  to Lady  Catherines nephew are dancing a valuable living  , quite happy ,  ''  s  aid  s  he  ,  `` to his  face ,  and ,  taking appearance  of  humility .  ''  Elizabeth  was  surprised  ,  but but  the  day  before pleasure  to  hear tell  me  in  an looked  as  if  s  he  wished appear  in  the  least ,  was  left  to the acutest kind  . Mrs.  Bennet was doubly engaged .  ``  There is so  me  thing insufferably tedious in  the cause of  such double danger of making it She has no  thing th  at  c  an add , th  at  s  he `` If any repetition  of those beautiful for give my opinion , constitute my  happiness ,  with  out losing a  moment of  the moral extractions from  the Mount th  is  morning .  Her manners  were not those  of  the fashion  able world whom  I never  saw in  the  whole e  very  thing  else  s  he  is years  a  go .  ``  I  am sorry to  hear th  at mentioned .  Pray ,  what chance had  recommended him  to his success is  not an other ,  had  been listened  to  with much  more to talk over at  last  , how  ever  . not  ?  ''  `` attentive  to  him an  other  word  on  the  subject making  bets blamelessness in  the\n"
     ]
    }
   ],
   "source": [
    "print wp.generate(200)[50:]"
   ]
  },
  {
   "cell_type": "markdown",
   "metadata": {
    "collapsed": true,
    "deletable": true,
    "editable": true
   },
   "source": [
    "Let us compare perplexity of a valid sentence with a jumpled one.\n",
    "We will see that the first one (valid) has lower perplexity as expected."
   ]
  },
  {
   "cell_type": "code",
   "execution_count": 11,
   "metadata": {
    "collapsed": false,
    "deletable": true,
    "editable": true
   },
   "outputs": [
    {
     "name": "stdout",
     "output_type": "stream",
     "text": [
      "Current Perplexity = 4107.03096\r",
      "Current Perplexity = 624.634245939\r",
      "Current Perplexity = 641.517914154\r"
     ]
    },
    {
     "data": {
      "text/plain": [
       "[4107.0309600000019, 624.63424593917398, 641.51791415441051]"
      ]
     },
     "execution_count": 11,
     "metadata": {},
     "output_type": "execute_result"
    }
   ],
   "source": [
    "wp.calculate_perplexity(['he', 'has', 'other','feelings'])"
   ]
  },
  {
   "cell_type": "code",
   "execution_count": 12,
   "metadata": {
    "collapsed": false,
    "deletable": true,
    "editable": true
   },
   "outputs": [
    {
     "name": "stdout",
     "output_type": "stream",
     "text": [
      "Current Perplexity = 8172.22222222\r",
      "Current Perplexity = 2351.56764104\r",
      "Current Perplexity = 3601.36192627\r"
     ]
    },
    {
     "data": {
      "text/plain": [
       "[8172.2222222222217, 2351.5676410365863, 3601.3619262747584]"
      ]
     },
     "execution_count": 12,
     "metadata": {},
     "output_type": "execute_result"
    }
   ],
   "source": [
    "wp.calculate_perplexity(['he', 'other', 'feelings','has'])"
   ]
  }
 ],
 "metadata": {
  "kernelspec": {
   "display_name": "Python 2",
   "language": "python",
   "name": "python2"
  },
  "language_info": {
   "codemirror_mode": {
    "name": "ipython",
    "version": 2
   },
   "file_extension": ".py",
   "mimetype": "text/x-python",
   "name": "python",
   "nbconvert_exporter": "python",
   "pygments_lexer": "ipython2",
   "version": "2.7.13"
  }
 },
 "nbformat": 4,
 "nbformat_minor": 0
}
