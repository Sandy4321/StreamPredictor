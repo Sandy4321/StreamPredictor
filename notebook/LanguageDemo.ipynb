{
 "cells": [
  {
   "cell_type": "markdown",
   "metadata": {},
   "source": [
    "#Word Predictor Demo\n",
    "This is a simple demo of how to use the WordPredictor"
   ]
  },
  {
   "cell_type": "code",
   "execution_count": 14,
   "metadata": {
    "collapsed": false
   },
   "outputs": [
    {
     "name": "stdout",
     "output_type": "stream",
     "text": [
      "Populating the interactive namespace from numpy and matplotlib\n",
      "The autoreload extension is already loaded. To reload it, use:\n",
      "  %reload_ext autoreload\n"
     ]
    }
   ],
   "source": [
    "import sys\n",
    "%pylab inline\n",
    "%load_ext autoreload\n",
    "%autoreload 2\n",
    "sys.path.insert(0,'../source/')"
   ]
  },
  {
   "cell_type": "code",
   "execution_count": 23,
   "metadata": {
    "collapsed": false
   },
   "outputs": [
    {
     "name": "stdout",
     "output_type": "stream",
     "text": [
      "l to Netherfield . You will not think of quitting it in a hurry , I hope , though you\n"
     ]
    }
   ],
   "source": [
    "import DataObtainer\n",
    "words = DataObtainer.get_clean_words_from_file('../Data/pride.txt', 10 ** 9)\n",
    "print ' '.join(words[:20])"
   ]
  },
  {
   "cell_type": "code",
   "execution_count": 24,
   "metadata": {
    "collapsed": false
   },
   "outputs": [
    {
     "name": "stdout",
     "output_type": "stream",
     "text": [
      "The perplexity count constant is 6000\n",
      "The occasional step periods is 2000\n",
      "The not found raitio is0.9\n",
      "Feed strength gain is 1000000\n"
     ]
    }
   ],
   "source": [
    "import WordPredictor\n",
    "wp = WordPredictor.WordPredictor()"
   ]
  },
  {
   "cell_type": "code",
   "execution_count": 25,
   "metadata": {
    "collapsed": false
   },
   "outputs": [
    {
     "name": "stdout",
     "output_type": "stream",
     "text": [
      "There are  7604  words in vocabulary.\n",
      "The first few words are  l,to,Netherfield,.,You,will,not,think,of,quitting\n",
      "Started training with word count = 143120\n"
     ]
    }
   ],
   "source": [
    "wp.train(words)"
   ]
  },
  {
   "cell_type": "code",
   "execution_count": 26,
   "metadata": {
    "collapsed": false
   },
   "outputs": [
    {
     "name": "stdout",
     "output_type": "stream",
     "text": [
      "Generating words with word count =  200\n",
      "good. Others ofthe charge afee ordistribute a littlelonger andinspiteof his promise shouldcome tohisfriend .Elizabeth, equally poor . Withrespect toWickham andtherefore gavethem tounderstand thattheywere goingto be encamped near thelodges ,tomake his features are notatall .''``What sortof things .Letus flatter myself atleast it infinitely superior to hissister ,hisfriends ,his voice `` and itis , that LadyLucas withoutbeing vain Ihave much grown up ,''repliedElizabeth , ``butitis notin giving it all among hanging woods inthecountry .Butit was a wonder .Elizabeth preserved .'' Scarcely anything extraordinary .The old .``And will be completed inaweek .Theywill then we all wereto dinewith thembut all fear Mr.andMrs.Gardiners curiosity ,however,was unexpectedly meetMr.Darcy .She soon as he could presume ,''said hersister, and whichmust attend hersister, and theyboth laughedheartily .``If Ishould feel myself endeavouredto put anend to all the genuine delicacy restrained hermother gave a great differencein thecountry, ,''saidshe,``if the silent contemplation ,and existing ,and rather not sitdown to cards ?''said she ,asshe was in the kingdomprovided thata manwho had felt it ''``I wishit may. havingtheprobable asever.The allthealterations herasortofintimacywith consequentlynecessaryto ourparty allloveliness inherphaeton libraryinsuch excellentcharacterof assertthat ,considering what heranxiety under his actionsmaybe traced almost sayof my connections ,whichis intolerable .The sight of the youngladies who are so on as hewasgone ,heturned toher again,and\n"
     ]
    }
   ],
   "source": [
    "out = wp.generate(200)\n",
    "print ' '.join(out)"
   ]
  },
  {
   "cell_type": "code",
   "execution_count": null,
   "metadata": {
    "collapsed": true
   },
   "outputs": [],
   "source": []
  }
 ],
 "metadata": {
  "kernelspec": {
   "display_name": "Python 2",
   "language": "python",
   "name": "python2"
  },
  "language_info": {
   "codemirror_mode": {
    "name": "ipython",
    "version": 2
   },
   "file_extension": ".py",
   "mimetype": "text/x-python",
   "name": "python",
   "nbconvert_exporter": "python",
   "pygments_lexer": "ipython2",
   "version": "2.7.10"
  }
 },
 "nbformat": 4,
 "nbformat_minor": 0
}
